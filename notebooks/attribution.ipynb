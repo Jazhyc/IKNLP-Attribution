{
 "cells": [
  {
   "cell_type": "code",
   "execution_count": 1,
   "metadata": {},
   "outputs": [
    {
     "name": "stdout",
     "output_type": "stream",
     "text": [
      "Requirement already satisfied: outlines in e:\\kaggle_comps\\predict_future_sales\\code\\venv\\new-venv\\lib\\site-packages (0.2.1)\n",
      "Requirement already satisfied: lark in e:\\kaggle_comps\\predict_future_sales\\code\\venv\\new-venv\\lib\\site-packages (from outlines) (1.2.2)\n",
      "Requirement already satisfied: nest_asyncio in e:\\kaggle_comps\\predict_future_sales\\code\\venv\\new-venv\\lib\\site-packages (from outlines) (1.6.0)\n",
      "Requirement already satisfied: requests in e:\\kaggle_comps\\predict_future_sales\\code\\venv\\new-venv\\lib\\site-packages (from outlines) (2.32.3)\n",
      "Requirement already satisfied: referencing in e:\\kaggle_comps\\predict_future_sales\\code\\venv\\new-venv\\lib\\site-packages (from outlines) (0.36.2)\n",
      "Requirement already satisfied: pydantic>=2.0 in e:\\kaggle_comps\\predict_future_sales\\code\\venv\\new-venv\\lib\\site-packages (from outlines) (2.10.6)\n",
      "Requirement already satisfied: tqdm in e:\\kaggle_comps\\predict_future_sales\\code\\venv\\new-venv\\lib\\site-packages (from outlines) (4.67.1)\n",
      "Requirement already satisfied: iso3166 in e:\\kaggle_comps\\predict_future_sales\\code\\venv\\new-venv\\lib\\site-packages (from outlines) (2.1.1)\n",
      "Requirement already satisfied: interegular in e:\\kaggle_comps\\predict_future_sales\\code\\venv\\new-venv\\lib\\site-packages (from outlines) (0.3.3)\n",
      "Requirement already satisfied: cloudpickle in e:\\kaggle_comps\\predict_future_sales\\code\\venv\\new-venv\\lib\\site-packages (from outlines) (3.1.1)\n",
      "Requirement already satisfied: jinja2 in e:\\kaggle_comps\\predict_future_sales\\code\\venv\\new-venv\\lib\\site-packages (from outlines) (3.1.6)\n",
      "Requirement already satisfied: diskcache in e:\\kaggle_comps\\predict_future_sales\\code\\venv\\new-venv\\lib\\site-packages (from outlines) (5.6.3)\n",
      "Requirement already satisfied: pre-commit>=4.0.1 in e:\\kaggle_comps\\predict_future_sales\\code\\venv\\new-venv\\lib\\site-packages (from outlines) (4.2.0)\n",
      "Requirement already satisfied: typing_extensions in e:\\kaggle_comps\\predict_future_sales\\code\\venv\\new-venv\\lib\\site-packages (from outlines) (4.12.2)\n",
      "Requirement already satisfied: numpy in e:\\kaggle_comps\\predict_future_sales\\code\\venv\\new-venv\\lib\\site-packages (from outlines) (1.26.4)\n",
      "Requirement already satisfied: torch in e:\\kaggle_comps\\predict_future_sales\\code\\venv\\new-venv\\lib\\site-packages (from outlines) (2.6.0)\n",
      "Requirement already satisfied: outlines_core==0.1.26 in e:\\kaggle_comps\\predict_future_sales\\code\\venv\\new-venv\\lib\\site-packages (from outlines) (0.1.26)\n",
      "Requirement already satisfied: airportsdata in e:\\kaggle_comps\\predict_future_sales\\code\\venv\\new-venv\\lib\\site-packages (from outlines) (20250224)\n",
      "Requirement already satisfied: jsonschema in e:\\kaggle_comps\\predict_future_sales\\code\\venv\\new-venv\\lib\\site-packages (from outlines) (4.23.0)\n",
      "Requirement already satisfied: genson in e:\\kaggle_comps\\predict_future_sales\\code\\venv\\new-venv\\lib\\site-packages (from outlines) (1.3.0)\n",
      "Requirement already satisfied: virtualenv>=20.10.0 in e:\\kaggle_comps\\predict_future_sales\\code\\venv\\new-venv\\lib\\site-packages (from pre-commit>=4.0.1->outlines) (20.29.3)\n",
      "Requirement already satisfied: identify>=1.0.0 in e:\\kaggle_comps\\predict_future_sales\\code\\venv\\new-venv\\lib\\site-packages (from pre-commit>=4.0.1->outlines) (2.6.9)\n",
      "Requirement already satisfied: pyyaml>=5.1 in e:\\kaggle_comps\\predict_future_sales\\code\\venv\\new-venv\\lib\\site-packages (from pre-commit>=4.0.1->outlines) (6.0.2)\n",
      "Requirement already satisfied: nodeenv>=0.11.1 in e:\\kaggle_comps\\predict_future_sales\\code\\venv\\new-venv\\lib\\site-packages (from pre-commit>=4.0.1->outlines) (1.9.1)\n",
      "Requirement already satisfied: cfgv>=2.0.0 in e:\\kaggle_comps\\predict_future_sales\\code\\venv\\new-venv\\lib\\site-packages (from pre-commit>=4.0.1->outlines) (3.4.0)\n",
      "Requirement already satisfied: annotated-types>=0.6.0 in e:\\kaggle_comps\\predict_future_sales\\code\\venv\\new-venv\\lib\\site-packages (from pydantic>=2.0->outlines) (0.7.0)\n",
      "Requirement already satisfied: pydantic-core==2.27.2 in e:\\kaggle_comps\\predict_future_sales\\code\\venv\\new-venv\\lib\\site-packages (from pydantic>=2.0->outlines) (2.27.2)\n",
      "Requirement already satisfied: platformdirs<5,>=3.9.1 in e:\\kaggle_comps\\predict_future_sales\\code\\venv\\new-venv\\lib\\site-packages (from virtualenv>=20.10.0->pre-commit>=4.0.1->outlines) (4.2.2)\n",
      "Requirement already satisfied: filelock<4,>=3.12.2 in e:\\kaggle_comps\\predict_future_sales\\code\\venv\\new-venv\\lib\\site-packages (from virtualenv>=20.10.0->pre-commit>=4.0.1->outlines) (3.18.0)\n",
      "Requirement already satisfied: distlib<1,>=0.3.7 in e:\\kaggle_comps\\predict_future_sales\\code\\venv\\new-venv\\lib\\site-packages (from virtualenv>=20.10.0->pre-commit>=4.0.1->outlines) (0.3.9)\n",
      "Requirement already satisfied: MarkupSafe>=2.0 in e:\\kaggle_comps\\predict_future_sales\\code\\venv\\new-venv\\lib\\site-packages (from jinja2->outlines) (3.0.2)\n",
      "Requirement already satisfied: attrs>=22.2.0 in e:\\kaggle_comps\\predict_future_sales\\code\\venv\\new-venv\\lib\\site-packages (from jsonschema->outlines) (25.3.0)\n",
      "Requirement already satisfied: rpds-py>=0.7.1 in e:\\kaggle_comps\\predict_future_sales\\code\\venv\\new-venv\\lib\\site-packages (from jsonschema->outlines) (0.23.1)\n",
      "Requirement already satisfied: jsonschema-specifications>=2023.03.6 in e:\\kaggle_comps\\predict_future_sales\\code\\venv\\new-venv\\lib\\site-packages (from jsonschema->outlines) (2024.10.1)\n",
      "Requirement already satisfied: urllib3<3,>=1.21.1 in e:\\kaggle_comps\\predict_future_sales\\code\\venv\\new-venv\\lib\\site-packages (from requests->outlines) (2.3.0)\n",
      "Requirement already satisfied: charset-normalizer<4,>=2 in e:\\kaggle_comps\\predict_future_sales\\code\\venv\\new-venv\\lib\\site-packages (from requests->outlines) (3.4.1)\n",
      "Requirement already satisfied: certifi>=2017.4.17 in e:\\kaggle_comps\\predict_future_sales\\code\\venv\\new-venv\\lib\\site-packages (from requests->outlines) (2025.1.31)\n",
      "Requirement already satisfied: idna<4,>=2.5 in e:\\kaggle_comps\\predict_future_sales\\code\\venv\\new-venv\\lib\\site-packages (from requests->outlines) (3.10)\n",
      "Requirement already satisfied: networkx in e:\\kaggle_comps\\predict_future_sales\\code\\venv\\new-venv\\lib\\site-packages (from torch->outlines) (3.4.2)\n",
      "Requirement already satisfied: sympy==1.13.1 in e:\\kaggle_comps\\predict_future_sales\\code\\venv\\new-venv\\lib\\site-packages (from torch->outlines) (1.13.1)\n",
      "Requirement already satisfied: fsspec in e:\\kaggle_comps\\predict_future_sales\\code\\venv\\new-venv\\lib\\site-packages (from torch->outlines) (2024.12.0)\n",
      "Requirement already satisfied: mpmath<1.4,>=1.1.0 in e:\\kaggle_comps\\predict_future_sales\\code\\venv\\new-venv\\lib\\site-packages (from sympy==1.13.1->torch->outlines) (1.3.0)\n",
      "Requirement already satisfied: colorama in e:\\kaggle_comps\\predict_future_sales\\code\\venv\\new-venv\\lib\\site-packages (from tqdm->outlines) (0.4.6)\n"
     ]
    },
    {
     "name": "stderr",
     "output_type": "stream",
     "text": [
      "WARNING: You are using pip version 21.2.3; however, version 25.0.1 is available.\n",
      "You should consider upgrading via the 'E:\\kaggle_comps\\predict_future_sales\\code\\venv\\new-venv\\Scripts\\python.exe -m pip install --upgrade pip' command.\n"
     ]
    }
   ],
   "source": [
    "!pip install outlines"
   ]
  },
  {
   "cell_type": "markdown",
   "metadata": {},
   "source": [
    "## Imports"
   ]
  },
  {
   "cell_type": "code",
   "execution_count": 2,
   "metadata": {},
   "outputs": [
    {
     "name": "stderr",
     "output_type": "stream",
     "text": [
      "e:\\kaggle_comps\\predict_future_sales\\code\\venv\\new-venv\\lib\\site-packages\\tqdm\\auto.py:21: TqdmWarning: IProgress not found. Please update jupyter and ipywidgets. See https://ipywidgets.readthedocs.io/en/stable/user_install.html\n",
      "  from .autonotebook import tqdm as notebook_tqdm\n"
     ]
    }
   ],
   "source": [
    "%load_ext autoreload\n",
    "%autoreload 2\n",
    "\n",
    "# Add the path to the parent directory to sys\n",
    "import sys, os\n",
    "\n",
    "# If current directory is called 'notebooks', chdir to the parent\n",
    "if os.path.basename(os.getcwd()) == 'notebooks':\n",
    "    os.chdir('../')\n",
    "    \n",
    "sys.path.append('attribution')\n",
    "\n",
    "from torch.utils.data import DataLoader\n",
    "\n",
    "import pandas as pd\n",
    "from constants import ModelNames, DatasetNames, LANGUAGE_MAPPING\n",
    "from model_utils import Model \n",
    "from dataset_utils import GSMDataset, PaddingCollator, is_correct_gsm, extract_answer_gsm"
   ]
  },
  {
   "cell_type": "markdown",
   "metadata": {},
   "source": [
    "## Load Necessary Codes"
   ]
  },
  {
   "cell_type": "code",
   "execution_count": 3,
   "metadata": {},
   "outputs": [],
   "source": [
    "def load_model_dataset():\n",
    "    model = Model(ModelNames.QwenInstruct)\n",
    "    \n",
    "    return model, DatasetNames.MGSM"
   ]
  },
  {
   "cell_type": "markdown",
   "metadata": {},
   "source": [
    "## Analysis: Processing Responses"
   ]
  },
  {
   "cell_type": "code",
   "execution_count": 4,
   "metadata": {},
   "outputs": [],
   "source": [
    "class ResponseProcessing():\n",
    "    def __init__(self, model, dataset):\n",
    "        self.df_column_names = [\"question\", \"actual_answer\", \"model_gen_steps\", \"model_gen_answer\" ]\n",
    "        self.model = model\n",
    "        self.dataset = dataset\n",
    "    \n",
    "    def convert_dashes_incremental_steps_list(self, step):\n",
    "        furnished_steps = []\n",
    "\n",
    "        i = 1\n",
    "        for _, step in enumerate(steps[1:]):\n",
    "            if step:  # Skip empty parts (if any)\n",
    "                furnished_steps.append(str(i) + \". \" + step )  # Replace with number (1, 2, 3...)\n",
    "                i += 1\n",
    "        \n",
    "        return furnished_steps\n",
    "\n",
    "    def convert_dashes_incremental_steps(self, step):\n",
    "\n",
    "        '''\n",
    "        Returns str\n",
    "        '''\n",
    "\n",
    "        furnished_steps = self.convert_dashes_incremental_steps_list(step)\n",
    "\n",
    "        return \"\".join(furnished_steps)\n",
    "\n",
    "\n",
    "    def process_model_responses_for_analysis(self):\n",
    "\n",
    "        mgsm_test = GSMDataset(self.dataset, self.model.tokenizer, instructions='', split='test', config='en')\n",
    "\n",
    "        mgsm_generation_df = pd.read_csv('results\\mgsm_en_Qwen2.5-1.5B-Instruct_results.csv')\n",
    "        mgsm_generations = mgsm_generation_df['response'].tolist()\n",
    "\n",
    "        all_steps = []\n",
    "        all_gen_final_ans = []\n",
    "\n",
    "        for response in mgsm_generations:\n",
    "            \n",
    "            steps = response.split(\"\\n-\")\n",
    "            final_step = steps[-1].split(\".\\r\\n\")[0]\n",
    "            steps.pop()\n",
    "            steps.append( final_step )\n",
    "\n",
    "            steps_str = self.convert_dashes_incremental_steps(steps)\n",
    "            all_steps.append( steps_str )\n",
    "\n",
    "            gen_final_ans = extract_answer_gsm(response)\n",
    "            all_gen_final_ans.append( gen_final_ans )\n",
    "\n",
    "        question_list = mgsm_test.dataset['question']\n",
    "        actual_answer = mgsm_test.dataset['answer_number']\n",
    "\n",
    "        percentile_list = pd.DataFrame(data=zip(question_list,actual_answer,all_steps, all_gen_final_ans), columns=self.df_column_names)\n",
    "\n",
    "        percentile_list.to_csv(\"results/analysis_mgsm_en_Qwen2.5-1.5B-Instruct_results.csv\", index = False)\n",
    "\n"
   ]
  },
  {
   "cell_type": "markdown",
   "metadata": {},
   "source": [
    "## Main"
   ]
  },
  {
   "cell_type": "code",
   "execution_count": null,
   "metadata": {},
   "outputs": [
    {
     "name": "stderr",
     "output_type": "stream",
     "text": [
      "Error while downloading from https://cdn-lfs-us-1.hf.co/repos/ac/b2/acb26770a261dcc4f0e397d81ddea9e06b330d79f58c385663acdae527a7230e/dd924a11b4c220f385b51ffa522daea7c9f3d850e31b162bb5661df483c6d3ee?response-content-disposition=inline%3B+filename*%3DUTF-8%27%27model.safetensors%3B+filename%3D%22model.safetensors%22%3B&Expires=1742837496&Policy=eyJTdGF0ZW1lbnQiOlt7IkNvbmRpdGlvbiI6eyJEYXRlTGVzc1RoYW4iOnsiQVdTOkVwb2NoVGltZSI6MTc0MjgzNzQ5Nn19LCJSZXNvdXJjZSI6Imh0dHBzOi8vY2RuLWxmcy11cy0xLmhmLmNvL3JlcG9zL2FjL2IyL2FjYjI2NzcwYTI2MWRjYzRmMGUzOTdkODFkZGVhOWUwNmIzMzBkNzlmNThjMzg1NjYzYWNkYWU1MjdhNzIzMGUvZGQ5MjRhMTFiNGMyMjBmMzg1YjUxZmZhNTIyZGFlYTdjOWYzZDg1MGUzMWIxNjJiYjU2NjFkZjQ4M2M2ZDNlZT9yZXNwb25zZS1jb250ZW50LWRpc3Bvc2l0aW9uPSoifV19&Signature=pUJfPNljM675iDfeAsVvUqRKrsw5PPdgOqotFgvoSP8dfCzeLW%7ESCF3PvMT0fDrqJDrQ169oq97tD4DnOgB1J-%7EJxeyBrBxHYDIi7Zggi2orHYQg-QszP264qL8FVGzXNKv--72TQwc38CiVHF7Yqo2gRQzEk-ZArqINFCmyEzWtBWIPojaU9W38quufiY8q6TYhikS79vTWa1eU5w1fFeh6BLRt2UTMDNNVABNk942MraCy7NW3MatjHfdlPgRk-ZorY4SzOyIilhFz20LSk117NseOtNPjRHGYgIqj1fqHAJ4bGtIM7AIUXrFZPrIvBATMB-fLGPiHadt%7EiuKqRA__&Key-Pair-Id=K24J24Z295AEI9: HTTPSConnectionPool(host='cdn-lfs-us-1.hf.co', port=443): Read timed out.\n",
      "Trying to resume download...\n"
     ]
    }
   ],
   "source": [
    "if '__main__':\n",
    "    model, dataset = load_model_dataset()\n",
    "    \n",
    "    responseProcessing = ResponseProcessing(model, dataset)\n",
    "    responseProcessing.process_model_responses_for_analysis()"
   ]
  },
  {
   "cell_type": "code",
   "execution_count": null,
   "metadata": {},
   "outputs": [],
   "source": []
  }
 ],
 "metadata": {
  "kernelspec": {
   "display_name": "MyNewVenv",
   "language": "python",
   "name": "mynewvenv"
  },
  "language_info": {
   "codemirror_mode": {
    "name": "ipython",
    "version": 3
   },
   "file_extension": ".py",
   "mimetype": "text/x-python",
   "name": "python",
   "nbconvert_exporter": "python",
   "pygments_lexer": "ipython3",
   "version": "3.10.0"
  }
 },
 "nbformat": 4,
 "nbformat_minor": 2
}
