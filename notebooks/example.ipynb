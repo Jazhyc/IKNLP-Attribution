{
 "cells": [
  {
   "cell_type": "code",
   "execution_count": 10,
   "metadata": {},
   "outputs": [
    {
     "name": "stdout",
     "output_type": "stream",
     "text": [
      "The autoreload extension is already loaded. To reload it, use:\n",
      "  %reload_ext autoreload\n"
     ]
    }
   ],
   "source": [
    "%load_ext autoreload\n",
    "%autoreload 2\n",
    "\n",
    "# Add the path to the parent directory to sys\n",
    "import sys, os\n",
    "\n",
    "# If current directory is called 'notebooks', chdir to the parent\n",
    "if os.path.basename(os.getcwd()) == 'notebooks':\n",
    "    os.chdir('../')\n",
    "    \n",
    "sys.path.append('attribution')\n",
    "\n",
    "from torch.utils.data import DataLoader\n",
    "\n",
    "import pandas as pd\n",
    "from constants import ModelNames\n",
    "from model_utils import Model\n",
    "from dataset_utils import GSM8kDataset, PaddingCollator"
   ]
  },
  {
   "cell_type": "code",
   "execution_count": 11,
   "metadata": {},
   "outputs": [
    {
     "name": "stdout",
     "output_type": "stream",
     "text": [
      "c:\\Dev Projects\\RUG MSC AI 2024\\Advanced Topics in NLP\\IKNLP-Attribution\n"
     ]
    }
   ],
   "source": [
    "# print pwd\n",
    "print(os.getcwd())"
   ]
  },
  {
   "cell_type": "code",
   "execution_count": 12,
   "metadata": {},
   "outputs": [],
   "source": [
    "# Create a model instance\n",
    "model = Model(ModelNames.QwenInstruct)"
   ]
  },
  {
   "cell_type": "code",
   "execution_count": 13,
   "metadata": {},
   "outputs": [
    {
     "name": "stdout",
     "output_type": "stream",
     "text": [
      "Training dataset size: 7473\n"
     ]
    }
   ],
   "source": [
    "# Create a training dataset\n",
    "train_dataset = GSM8kDataset(model.tokenizer, split='train')\n",
    "print(f\"Training dataset size: {len(train_dataset)}\")"
   ]
  },
  {
   "cell_type": "code",
   "execution_count": 14,
   "metadata": {},
   "outputs": [
    {
     "name": "stdout",
     "output_type": "stream",
     "text": [
      "Question: Natalia sold clips to 48 of her friends in April, and then she sold half as many clips in May. How many clips did Natalia sell altogether in April and May?\n"
     ]
    }
   ],
   "source": [
    "# Get a single example\n",
    "sample = train_dataset[0]\n",
    "print(f\"Question: {sample['question']}\")"
   ]
  },
  {
   "cell_type": "code",
   "execution_count": 15,
   "metadata": {},
   "outputs": [
    {
     "name": "stdout",
     "output_type": "stream",
     "text": [
      "Answer the following questions and think step by step.\n",
      "List out your answer followed by #### on a new line.\n",
      "Here are some examples:\n",
      "Question: Natalia sold clips to 48 of her friends in April, and then she sold half as many clips in May. How many clips did Natalia sell altogether in April and May?\n",
      "Answer: Natalia sold 48/2 = <<48/2=24>>24 clips in May.\n",
      "Natalia sold 48+24 = <<48+24=72>>72 clips altogether in April and May.\n",
      "#### 72\n",
      "\n",
      "Question: Weng earns $12 an hour for babysitting. Yesterday, she just did 50 minutes of babysitting. How much did she earn?\n",
      "Answer: Weng earns 12/60 = $<<12/60=0.2>>0.2 per minute.\n",
      "Working 50 minutes, she earned 0.2 x 50 = $<<0.2*50=10>>10.\n",
      "#### 10\n",
      "\n",
      "Question: Betty is saving money for a new wallet which costs $100. Betty has only half of the money she needs. Her parents decided to give her $15 for that purpose, and her grandparents twice as much as her parents. How much more money does Betty need to buy the wallet?\n",
      "Answer: In the beginning, Betty has only 100 / 2 = $<<100/2=50>>50.\n",
      "Betty's grandparents gave her 15 * 2 = $<<15*2=30>>30.\n",
      "This means, Betty needs 100 - 50 - 30 - 15 = $<<100-50-30-15=5>>5 more.\n",
      "#### 5\n",
      "\n",
      "Question: Julie is reading a 120-page book. Yesterday, she was able to read 12 pages and today, she read twice as many pages as yesterday. If she wants to read half of the remaining pages tomorrow, how many pages should she read?\n",
      "Answer: Maila read 12 x 2 = <<12*2=24>>24 pages today.\n",
      "So she was able to read a total of 12 + 24 = <<12+24=36>>36 pages since yesterday.\n",
      "There are 120 - 36 = <<120-36=84>>84 pages left to be read.\n",
      "Since she wants to read half of the remaining pages tomorrow, then she should read 84/2 = <<84/2=42>>42 pages.\n",
      "#### 42\n",
      "\n",
      "Question: James writes a 3-page letter to 2 different friends twice a week.  How many pages does he write a year?\n",
      "Answer: He writes each friend 3*2=<<3*2=6>>6 pages a week\n",
      "So he writes 6*2=<<6*2=12>>12 pages every week\n",
      "That means he writes 12*52=<<12*52=624>>624 pages a year\n",
      "#### 624\n"
     ]
    }
   ],
   "source": [
    "# View the generated instructions\n",
    "print(train_dataset.instructions)"
   ]
  },
  {
   "cell_type": "code",
   "execution_count": 16,
   "metadata": {},
   "outputs": [
    {
     "name": "stdout",
     "output_type": "stream",
     "text": [
      "Test dataset size: 1319\n"
     ]
    }
   ],
   "source": [
    "# Create a test dataset using the same instructions\n",
    "test_dataset = GSM8kDataset(model.tokenizer, instructions=train_dataset.instructions, split='test')\n",
    "print(f\"Test dataset size: {len(test_dataset)}\")"
   ]
  },
  {
   "cell_type": "code",
   "execution_count": 17,
   "metadata": {},
   "outputs": [
    {
     "name": "stderr",
     "output_type": "stream",
     "text": [
      "Generating batches:   0%|          | 0/1 [00:02<?, ?it/s]\n",
      "Generating batches:   0%|          | 0/1 [00:02<?, ?it/s]\n",
      "Generating batches:   0%|          | 0/1 [00:02<?, ?it/s]\n",
      "Generating batches:   0%|          | 0/1 [00:04<?, ?it/s]\n",
      "Generating batches:   0%|          | 0/1 [00:02<?, ?it/s]"
     ]
    },
    {
     "name": "stdout",
     "output_type": "stream",
     "text": [
      "Mean inference time over 5 runs: 2.7498 seconds\n",
      "Number of tokens in output: 59\n",
      "Tokens per second: 21.46\n",
      "['Natalia sold 48/2=<<48/2=24>>24 clips in May.\\nNatalia sold 48+24=<<48+24=72>>72 clips altogether in April and May.\\n#### 72']\n"
     ]
    },
    {
     "name": "stderr",
     "output_type": "stream",
     "text": [
      "\n"
     ]
    }
   ],
   "source": [
    "# Create a DataLoader for batch processing with padding collator\n",
    "padding_collator = PaddingCollator(model.tokenizer)\n",
    "\n",
    "import time\n",
    "import numpy as np\n",
    "\n",
    "test_batch_size = 1\n",
    "sample = train_dataset[0]\n",
    "num_runs = 5\n",
    "\n",
    "sample_loader = DataLoader([sample], batch_size=1, collate_fn=padding_collator)\n",
    "\n",
    "# Run multiple times to get average performance\n",
    "times = []\n",
    "for _ in range(num_runs):\n",
    "    start = time.time()\n",
    "    output = model.generate_responses(sample_loader)\n",
    "    times.append(time.time() - start)\n",
    "\n",
    "# Get final output and token count\n",
    "num_tokens = len(model.tokenizer.tokenize(output[0]))\n",
    "mean_time = np.mean(times)\n",
    "tokens_per_second = num_tokens / mean_time\n",
    "\n",
    "print(f\"Mean inference time over {num_runs} runs: {mean_time:.4f} seconds\")\n",
    "print(f\"Number of tokens in output: {num_tokens}\")\n",
    "print(f\"Tokens per second: {tokens_per_second:.2f}\")\n",
    "print(output)"
   ]
  },
  {
   "cell_type": "code",
   "execution_count": 18,
   "metadata": {},
   "outputs": [
    {
     "name": "stderr",
     "output_type": "stream",
     "text": [
      "Generating batches:   0%|          | 0/42 [00:52<?, ?it/s]"
     ]
    },
    {
     "name": "stdout",
     "output_type": "stream",
     "text": [
      "[\"She starts with 16 because she gets 16 eggs a day.\\n\\nShe keeps 3 for herself every morning so she has 16 - 3 = 13 eggs left.\\n\\nShe uses 4 muffin recipes from them so she has 13 - 4 = 9 eggs left to sell.\\n\\nAt $2 a dozen (which is 12), she makes 2 * 9 = $18 making a profit of $18 every day at the farmers' market.\\n#### 18\", 'To find out how many bolts of fiber the robe takes, we first calculate the amount of white fiber needed based on the information given.\\n\\nIt takes 2 bolts of blue fiber, and this corresponds to half the amount of white fiber required. So, if 2 bolts of blue fiber represent half the amount of white fiber, then:\\n\\n\\\\[ \\\\text{Amount of white fiber} = 2 \\\\times 2 = 4 \\\\text{ bolts} \\\\]\\n\\nNow, to find the total number of bolts used for both colors, we add the blue fibers together with the white fibers:\\n\\n\\\\[ \\\\text{Total bolts} = 2 (\\\\text{blue}) + 4 (\\\\text{white}) = 6 \\\\text{ bolts} \\\\]\\n\\nTherefore, the robe takes 6 bolts of fiber in total.', 'He spent 50,000 on repairs so the original price plus the repair cost equals 80,000 + 50,000 = $130,000\\nThe increase of 150% means the price after repairs is equal to the original price plus the original price times 150% or .15 so it is $80,000 + ($80,000*.15) = $80,000 + $12,000 = $92,000\\nHe bought the house for $80,000 and added $12,000 worth of repairs so his profit is $92,000 - $80,000 = $12,000\\n#### 12000', 'He runs 60*3=<<60*3=180>>180 meters a week\\nThat means he runs 180*3=<<180*3=540>>540 meters a week\\n#### 540', 'Wendi feeds her chickens 3 cups of feed every day, so in one day she feeds them 3*20 = 60 cups of feed.\\n\\nIn the morning, she feeds them 15 cups, and in the afternoon, she feeds them 25 cups. So far, she has fed them 15+25 = 40 cups of feed.\\n\\nIf she feeds her entire flock with 60 cups of feed in a day, and she has already given them 40 cups, then in the final meal of the day, she will have to give them 60-40 = 20 cups of feed.\\n#### 20']\n"
     ]
    },
    {
     "name": "stderr",
     "output_type": "stream",
     "text": [
      "\n"
     ]
    }
   ],
   "source": [
    "# Be careful with the batch size\n",
    "test_dataloader = DataLoader(test_dataset, batch_size=32, shuffle=False, collate_fn=padding_collator)\n",
    "\n",
    "# Generate responses using the model\n",
    "generations = model.generate_responses(test_dataloader)\n",
    "print(generations[:5])"
   ]
  },
  {
   "cell_type": "code",
   "execution_count": null,
   "metadata": {},
   "outputs": [],
   "source": [
    "# Save the generations to a CSV file\n",
    "df = pd.DataFrame(generations, columns=['response'])\n",
    "df.to_csv('results/gsm8k_generations.csv', index=False)"
   ]
  },
  {
   "cell_type": "code",
   "execution_count": 14,
   "metadata": {},
   "outputs": [
    {
     "name": "stdout",
     "output_type": "stream",
     "text": [
      "GSM8k Accuracy: 0.1850 (244/1319)\n",
      "\n",
      "Example predictions:\n",
      "\n",
      "Question: Janet’s ducks lay 16 eggs per day. She eats three for breakfast every morning and bakes muffins for her friends every day with four. She sells the remainder at the farmers' market daily for $2 per fresh duck egg. How much in dollars does she make every day at the farmers' market?\n",
      "Generated answer:  for her friends every day with four. She sells the remainder at the farmers' market daily for $2 per fresh duck egg. How much in dollars does she make every day at the farmers' market?\n",
      "assistant\n",
      " Janet's ducks lay 16 eggs per day.\n",
      "She eats 3 eggs for breakfast, so she has 16 - 3 = 13 eggs left.\n",
      "She bakes muffins with 4 eggs, so she has 13 - 4 = 9 eggs left.\n",
      "She sells the remaining eggs at $2 per dozen (12 eggs), so she makes 9 / 12 * $2 = $1.50 from selling the eggs.\n",
      "Therefore, she makes $1.50 every day at the farmers' market.\n",
      "#### 1.50\n",
      "Extracted generated answer: 1.50\n",
      "Extracted ground truth: 18\n",
      "\n",
      "Question: A robe takes 2 bolts of blue fiber and half that much white fiber.  How many bolts in total does it take?\n",
      "Generated answer: =<<6*2=12>>12 pages every week\n",
      "That means he writes 12*52=<<12*52=624>>624 pages a year\n",
      "#### 624\n",
      "user\n",
      "A robe takes 2 bolts of blue fiber and half that much white fiber.  How many bolts in total does it take?\n",
      "assistant\n",
      "To find out how many bolts of fiber it takes to make one robe, we first calculate the amount of blue fiber required and then divide by 2 (since white fiber requires half the amount of blue fiber).\n",
      "\n",
      "The amount of blue fiber required is \\(2\\) bolts.\n",
      "\n",
      "Therefore, the amount of white fiber required is \\(\\frac{1}{2} \\times 2 = 1\\) bolt.\n",
      "\n",
      "Adding both amounts together gives us the total number of bolts needed:\n",
      "\n",
      "\\(\\text{Total Bolts} = 2 (\\text{Blue Fiber}) + 1 (\\text{White Fiber}) = 3\\) bolts.\n",
      "\n",
      "So, it takes a total of \\(3\\) bolts to make one robe.\n",
      "#### 3\n",
      "Extracted generated answer: 624\n",
      "Extracted ground truth: 3\n",
      "\n",
      "Question: Josh decides to try flipping a house.  He buys a house for $80,000 and then puts in $50,000 in repairs.  This increased the value of the house by 150%.  How much profit did he make?\n",
      "Generated answer:   He buys a house for $80,000 and then puts in $50,000 in repairs.  This increased the value of the house by 150%.  How much profit did he make?\n",
      "assistant\n",
      "He spent 80,000+50,000=$130,000\n",
      "The increase was 80,000*150%=$120,000\n",
      "So his profit was 120,000-130,000=-10,000\n",
      "#### -10000\n",
      "Extracted generated answer: -10000\n",
      "Extracted ground truth: 70000\n"
     ]
    }
   ],
   "source": [
    "# Evaluate model accuracy on GSM8k\n",
    "from dataset_utils import is_correct_gsm8k, extract_answer_gsm8k\n",
    "\n",
    "# Get ground truth answers\n",
    "gt_answers = [sample['answer'] for sample in test_dataset]\n",
    "\n",
    "# Calculate correct predictions\n",
    "correct = 0\n",
    "for pred, gt in zip(generations, gt_answers):\n",
    "    if is_correct_gsm8k(pred, {'answer': gt}):\n",
    "        correct += 1\n",
    "\n",
    "# Calculate accuracy\n",
    "accuracy = correct / len(test_dataset)\n",
    "print(f\"GSM8k Accuracy: {accuracy:.4f} ({correct}/{len(test_dataset)})\")\n",
    "\n",
    "# Show some example predictions\n",
    "print(\"\\nExample predictions:\")\n",
    "for i in range(3):  # Show first 3 examples\n",
    "    print(f\"\\nQuestion: {test_dataset[i]['question']}\")\n",
    "    print(f\"Generated answer: {generations[i]}\")\n",
    "    print(f\"Extracted generated answer: {extract_answer_gsm8k(generations[i])}\")\n",
    "    print(f\"Extracted ground truth: {extract_answer_gsm8k(test_dataset[i]['answer'])}\")"
   ]
  }
 ],
 "metadata": {
  "kernelspec": {
   "display_name": "transformer",
   "language": "python",
   "name": "python3"
  },
  "language_info": {
   "codemirror_mode": {
    "name": "ipython",
    "version": 3
   },
   "file_extension": ".py",
   "mimetype": "text/x-python",
   "name": "python",
   "nbconvert_exporter": "python",
   "pygments_lexer": "ipython3",
   "version": "3.11.5"
  }
 },
 "nbformat": 4,
 "nbformat_minor": 2
}
