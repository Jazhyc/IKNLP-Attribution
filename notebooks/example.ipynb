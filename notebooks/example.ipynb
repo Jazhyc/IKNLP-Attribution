{
 "cells": [
  {
   "cell_type": "code",
   "execution_count": 1,
   "metadata": {},
   "outputs": [],
   "source": [
    "%load_ext autoreload\n",
    "%autoreload 2\n",
    "\n",
    "# Add the path to the parent directory to sys\n",
    "import sys, os\n",
    "\n",
    "# If current directory is called 'notebooks', chdir to the parent\n",
    "if os.path.basename(os.getcwd()) == 'notebooks':\n",
    "    os.chdir('../')\n",
    "    \n",
    "sys.path.append('attribution')\n",
    "\n",
    "from torch.utils.data import DataLoader\n",
    "\n",
    "import pandas as pd\n",
    "from constants import ModelNames, DatasetNames, LANGUAGE_MAPPING\n",
    "from model_utils import Model \n",
    "from dataset_utils import GSMDataset, PaddingCollator, is_correct_gsm, extract_answer_gsm"
   ]
  },
  {
   "cell_type": "code",
   "execution_count": 2,
   "metadata": {},
   "outputs": [
    {
     "name": "stdout",
     "output_type": "stream",
     "text": [
      "c:\\Dev Projects\\RUG MSC AI 2024\\Advanced Topics in NLP\\IKNLP-Attribution\n"
     ]
    }
   ],
   "source": [
    "# print pwd\n",
    "print(os.getcwd())"
   ]
  },
  {
   "cell_type": "code",
   "execution_count": 3,
   "metadata": {},
   "outputs": [
    {
     "name": "stderr",
     "output_type": "stream",
     "text": [
      "Sliding Window Attention is enabled but not implemented for `sdpa`; unexpected results may be encountered.\n",
      "Device set to use cuda:0\n"
     ]
    }
   ],
   "source": [
    "# Create a model instance\n",
    "model = Model(ModelNames.QwenInstruct)"
   ]
  },
  {
   "cell_type": "code",
   "execution_count": 15,
   "metadata": {},
   "outputs": [
    {
     "name": "stdout",
     "output_type": "stream",
     "text": [
      "Training dataset size: 8\n"
     ]
    }
   ],
   "source": [
    "# Create a training dataset\n",
    "train_dataset = GSMDataset(DatasetNames.MGSM, model.tokenizer, config='bn')\n",
    "print(f\"Training dataset size: {len(train_dataset)}\")"
   ]
  },
  {
   "cell_type": "code",
   "execution_count": 16,
   "metadata": {},
   "outputs": [
    {
     "name": "stdout",
     "output_type": "stream",
     "text": [
      "প্রশ্ন: রজারের 5টি টেনিস বল আছে। সে আরও 2 ক্যান টেনিস বল কিনেছে। প্রতিটি ক্যানে 3টি করে টেনিস বল আছে। তার কাছে এখন কতগুলি টেনিস বল আছে?\n"
     ]
    }
   ],
   "source": [
    "# Get a single example\n",
    "sample = train_dataset[0]\n",
    "print(f\"{sample['question']}\")"
   ]
  },
  {
   "cell_type": "code",
   "execution_count": 17,
   "metadata": {},
   "outputs": [
    {
     "name": "stdout",
     "output_type": "stream",
     "text": [
      "প্রশ্ন: রজারের 5টি টেনিস বল আছে। সে আরও 2 ক্যান টেনিস বল কিনেছে। প্রতিটি ক্যানে 3টি করে টেনিস বল আছে। তার কাছে এখন কতগুলি টেনিস বল আছে?\n",
      "ধাপে ধাপে উত্তর:\n",
      "- রজারের প্রথমে 5টি বল ছিল।\n",
      "- 2টি ক্যানের প্রতিটিতে 3টে টেনিস বল মানে 6টি টেনিস বল।\n",
      "- 5 + 6 = 11।\n",
      "উত্তর হল 11।\n",
      "\n",
      "প্রশ্ন: সার্ভার কক্ষে নয়টি কম্পিউটার ছিল। সোমবার থেকে বৃহস্পতিবার প্রতিদিন আরও পাঁচটি করে কম্পিউটার স্থাপন করা হয়েছিল। সার্ভার কক্ষে এখন কতগুলি কম্পিউটার আছে?\n",
      "ধাপে ধাপে উত্তর:\n",
      "- সোমবার থেকে বৃহস্পতিবার 4দিন হয়।\n",
      "- প্রতিদিন 5টি করে কম্পিউটার যোগ করা হয়েছে।\n",
      "- যার অর্থ মোট 4 * 5 = 20টি কম্পিউটার যোগ করা হয়েছে।\n",
      "- শুরুতে 9টি কম্পিউটার ছিল, তাই এখন 9 + 20 = 29টি কম্পিউটার রয়েছে।\n",
      "উত্তর হল 29।\n",
      "\n",
      "প্রশ্ন: লিয়ার 32টি চকোলেট ছিল এবং তার বোনের ছিল 42টি। যদি তারা 35টি খেয়ে থাকে, তাহলে তাদের কাছে মোট কতগুলি অবিশিষ্ট আছে?\n",
      "ধাপে ধাপে উত্তর:\n",
      "- লিয়ার 32টি চকোলেট ছিল এবং লিয়ার বোনের ছিল 42টি।\n",
      "- যার অর্থ শুরুতে 32 + 42 = 74টি চকোলেট ছিল।\n",
      "- 35টি খাওয়া হয়ে গেছে।\n",
      "- তাই তাদের কাছে মোট 74 - 35 = 39টি চকোলট আছে।\n",
      "উত্তর হল 39।\n",
      "\n",
      "প্রশ্ন: শনের পাঁচটি খেলনা আছে। ক্রিসমাস উপলক্ষে সে তার মাতা ও পিতা উভয়ের থেকে দুটি করে খেলনা পেয়েছে। তার কাছে এখন কতগুলি খেলনা আছে?\n",
      "ধাপে ধাপে উত্তর:\n",
      "- তার কাছে 5টি খেলনা আছে।\n",
      "- সে তার মাতার থেকে 2টি খেলনা পেয়েছিল অতএব, এরপর তার 5 + 2 = 7টি খেলনা হয়েছে।\n",
      "- তারপর সে তার পিতার থেকে 2টি খেলনা পেয়েছিল, তাই তার মোট 7 + 2 = 9 টি খেলনা হয়েছে।\n",
      "উত্তর হল 9।\n",
      "\n",
      "প্রশ্ন: মাইকেলের 58টি গলফ বল ছিল। মঙ্গলবার, সে 23টি গলফ বল হারিয়েছিল। বুধবার, সে আরও 2টি বল হারিয়েছিল। বুধবারের শেষে তার কাছে কয়টি গলফ বল ছিল?\n",
      "ধাপে ধাপে উত্তর:\n",
      "- শুরুতে মাইকেলের কাছে 58টি গলফ বল ছিল এবং সে 23টি বল হারিয়েছিল, তাই তার 58 - 23 = 35টি বল আছে।\n",
      "- আরও 2টি বল হারানোর পর, তার এখন 35 - 2 = 33টি বল আছে।\n",
      "উত্তর হল 33।\n"
     ]
    }
   ],
   "source": [
    "# View the generated instructions\n",
    "print(train_dataset.instructions)"
   ]
  },
  {
   "cell_type": "code",
   "execution_count": 18,
   "metadata": {},
   "outputs": [
    {
     "name": "stdout",
     "output_type": "stream",
     "text": [
      "Test dataset size: 250\n"
     ]
    }
   ],
   "source": [
    "# Create a test dataset using the same instructions\n",
    "test_dataset = GSMDataset(DatasetNames.MGSM, model.tokenizer, instructions=train_dataset.instructions, split='test', config='bn')\n",
    "print(f\"Test dataset size: {len(test_dataset)}\")"
   ]
  },
  {
   "cell_type": "code",
   "execution_count": 19,
   "metadata": {},
   "outputs": [
    {
     "name": "stderr",
     "output_type": "stream",
     "text": [
      "Generating batches: 100%|██████████| 1/1 [00:01<00:00,  1.76s/it]"
     ]
    },
    {
     "name": "stdout",
     "output_type": "stream",
     "text": [
      "Mean inference time over 1 runs: 1.7563 seconds\n",
      "Number of tokens in output: 12\n",
      "Tokens per second: 6.83\n",
      "জেনেটের হাঁসগুলি প্রতিদিন 16টি করে ডিম পাড়ে। তিনি প্রতিদিন প্রাতরাশে তিনটি করে ডিম খান এবং বন্ধুদের জন্য প্রতিদিন চারটি ডিম দিয়ে মাফিন তৈরি করেন। অবশিষ্ট হাঁসের ডিমগুলি তিনি প্রতিদিন কৃষকদের বাজারে প্রতি ডিম $2 দরে বিক্রয় করেন। তিনি কৃষকদের বাজারে প্রতিদিন কত ডলার উপার্জন করেন?\n",
      "['উত্তর হল 28.<']\n"
     ]
    },
    {
     "name": "stderr",
     "output_type": "stream",
     "text": [
      "\n"
     ]
    }
   ],
   "source": [
    "# Create a DataLoader for batch processing with padding collator\n",
    "padding_collator = PaddingCollator(model.tokenizer)\n",
    "\n",
    "import time\n",
    "import numpy as np\n",
    "\n",
    "sample = test_dataset[0]\n",
    "num_runs = 1\n",
    "\n",
    "sample_loader = DataLoader([sample], batch_size=1, collate_fn=padding_collator)\n",
    "\n",
    "# Run multiple times to get average performance\n",
    "times = []\n",
    "for _ in range(num_runs):\n",
    "    start = time.time()\n",
    "    output = model.generate_responses(sample_loader, config='bn', use_COT=False)\n",
    "    times.append(time.time() - start)\n",
    "\n",
    "# Get final output and token count\n",
    "num_tokens = len(model.tokenizer.tokenize(output[0]))\n",
    "mean_time = np.mean(times)\n",
    "tokens_per_second = num_tokens / mean_time\n",
    "\n",
    "print(f\"Mean inference time over {num_runs} runs: {mean_time:.4f} seconds\")\n",
    "print(f\"Number of tokens in output: {num_tokens}\")\n",
    "print(f\"Tokens per second: {tokens_per_second:.2f}\")\n",
    "\n",
    "print(sample['question'])\n",
    "print(output)"
   ]
  },
  {
   "cell_type": "code",
   "execution_count": 12,
   "metadata": {},
   "outputs": [
    {
     "name": "stderr",
     "output_type": "stream",
     "text": [
      "Generating batches:   0%|          | 0/42 [00:00<?, ?it/s]C:\\Users\\User\\AppData\\Roaming\\Python\\Python311\\site-packages\\transformers\\generation\\configuration_utils.py:629: UserWarning: `do_sample` is set to `False`. However, `temperature` is set to `0.7` -- this flag is only used in sample-based generation modes. You should set `do_sample=True` or unset `temperature`.\n",
      "  warnings.warn(\n",
      "C:\\Users\\User\\AppData\\Roaming\\Python\\Python311\\site-packages\\transformers\\generation\\configuration_utils.py:634: UserWarning: `do_sample` is set to `False`. However, `top_p` is set to `0.8` -- this flag is only used in sample-based generation modes. You should set `do_sample=True` or unset `top_p`.\n",
      "  warnings.warn(\n",
      "C:\\Users\\User\\AppData\\Roaming\\Python\\Python311\\site-packages\\transformers\\generation\\configuration_utils.py:651: UserWarning: `do_sample` is set to `False`. However, `top_k` is set to `20` -- this flag is only used in sample-based generation modes. You should set `do_sample=True` or unset `top_k`.\n",
      "  warnings.warn(\n",
      "Generating batches: 100%|██████████| 42/42 [19:49<00:00, 28.33s/it]"
     ]
    },
    {
     "name": "stdout",
     "output_type": "stream",
     "text": [
      "[\" Janet's ducks lay 16 eggs per day.\\nShe eats 3 eggs for breakfast, so she has 16 - 3 = 13 eggs left.\\nShe bakes muffins with 4 eggs, so she has 13 - 4 = 9 eggs left.\\nShe sells the remaining eggs at $2 per egg, so she makes 9 * $2 = $18 every day.\\nThe answer is $\\\\boxed{18}$.\", ' It takes 2 bolts of blue fiber.\\nAnd it takes half that amount of white fiber, so it takes 2/2 = 1 bolt of white fiber.\\nTo find the total number of bolts needed, we add the number of bolts of blue fiber and the number of bolts of white fiber together.\\nSo, the total number of bolts is 2 (blue) + 1 (white) = 3 bolts.\\nThe answer is $\\\\boxed{3}$.', ' The value of the house after repairs is $80,000 + $50,000 = $130,000.\\nThe increase in value is 150% of the original price, so it is 150/100 * $80,000 = $120,000.\\nAdding this increase to the original price gives us a final price of $80,000 + $120,000 = $200,000.\\nTo find the profit, we subtract the cost from the final price, so the profit is $200,000 - $80,000 = $120,000.\\nThe answer is $\\\\boxed{120000}$.', 'He runs 60*3=<<60*3=180>>180 meters a week\\nHe runs 180*3=<<180*3=540>>540 meters a week\\n#### 540', 'She needs 15 + 25 = 40 cups of feed for all of the chickens.\\nShe needs to divide this amount by the number of chickens so 40 / 20 = 2 cups of feed for the last meal.\\n#### 2']\n"
     ]
    },
    {
     "name": "stderr",
     "output_type": "stream",
     "text": [
      "\n"
     ]
    }
   ],
   "source": [
    "# Be careful with the batch size\n",
    "test_dataloader = DataLoader(test_dataset, batch_size=32, shuffle=False, collate_fn=padding_collator)\n",
    "\n",
    "# Generate responses using the model\n",
    "generations = model.generate_responses(test_dataloader)\n",
    "print(generations[:5])"
   ]
  },
  {
   "cell_type": "code",
   "execution_count": 46,
   "metadata": {},
   "outputs": [],
   "source": [
    "# Save the generations to a CSV file\n",
    "df = pd.DataFrame(generations, columns=['response'])\n",
    "df.to_csv('results/gsm8k_generations.csv', index=False)"
   ]
  },
  {
   "cell_type": "code",
   "execution_count": 54,
   "metadata": {},
   "outputs": [],
   "source": [
    "# Load the generations from the CSV file\n",
    "df = pd.read_csv('results/gsm8k_generations.csv')\n",
    "generations = df['response'].tolist()"
   ]
  },
  {
   "cell_type": "code",
   "execution_count": 57,
   "metadata": {},
   "outputs": [
    {
     "name": "stdout",
     "output_type": "stream",
     "text": [
      "GSM8k Accuracy: 0.5739 (757/1319)\n",
      "\n",
      "Example predictions:\n",
      "\n",
      "Question: Janet’s ducks lay 16 eggs per day. She eats three for breakfast every morning and bakes muffins for her friends every day with four. She sells the remainder at the farmers' market daily for $2 per fresh duck egg. How much in dollars does she make every day at the farmers' market?\n",
      "Generated answer:  Janet's ducks lay 16 eggs per day.\n",
      "She eats 3 eggs for breakfast, so she has 16 - 3 = 13 eggs left.\n",
      "She bakes muffins with 4 eggs, so she has 13 - 4 = 9 eggs left.\n",
      "She sells the remaining eggs at $2 per egg, so she makes 9 * $2 = $18 every day.\n",
      "The answer is $\\boxed{18}$.\n",
      "Extracted generated answer: 18.0\n",
      "Extracted ground truth: 18.0\n",
      "\n",
      "Question: A robe takes 2 bolts of blue fiber and half that much white fiber.  How many bolts in total does it take?\n",
      "Generated answer:  It takes 2 bolts of blue fiber.\n",
      "And it takes half that amount of white fiber, so it takes 2/2 = 1 bolt of white fiber.\n",
      "To find the total number of bolts needed, we add the number of bolts of blue fiber and the number of bolts of white fiber together.\n",
      "So, the total number of bolts is 2 (blue) + 1 (white) = 3 bolts.\n",
      "The answer is $\\boxed{3}$.\n",
      "Extracted generated answer: 3.0\n",
      "Extracted ground truth: 3.0\n",
      "\n",
      "Question: Josh decides to try flipping a house.  He buys a house for $80,000 and then puts in $50,000 in repairs.  This increased the value of the house by 150%.  How much profit did he make?\n",
      "Generated answer:  The value of the house after repairs is $80,000 + $50,000 = $130,000.\n",
      "The increase in value is 150% of the original price, so it is 150/100 * $80,000 = $120,000.\n",
      "Adding this increase to the original price gives us a final price of $80,000 + $120,000 = $200,000.\n",
      "To find the profit, we subtract the cost from the final price, so the profit is $200,000 - $80,000 = $120,000.\n",
      "The answer is $\\boxed{120000}$.\n",
      "Extracted generated answer: 120000.0\n",
      "Extracted ground truth: 70000.0\n"
     ]
    }
   ],
   "source": [
    "# Evaluate model accuracy on GSM8k\n",
    "from dataset_utils import is_correct_gsm, extract_answer_gsm\n",
    "\n",
    "# Get ground truth answers\n",
    "gt_answers = [sample['answer'] for sample in test_dataset]\n",
    "\n",
    "# Calculate correct predictions\n",
    "correct = 0\n",
    "for pred, gt in zip(generations, gt_answers):\n",
    "    if is_correct_gsm(pred, gt):\n",
    "        correct += 1\n",
    "\n",
    "# Calculate accuracy\n",
    "accuracy = correct / len(test_dataset)\n",
    "print(f\"GSM8k Accuracy: {accuracy:.4f} ({correct}/{len(test_dataset)})\")\n",
    "\n",
    "# Show some example predictions\n",
    "print(\"\\nExample predictions:\")\n",
    "for i in range(3):  # Show first 3 examples\n",
    "    print(f\"\\nQuestion: {test_dataset[i]['question']}\")\n",
    "    print(f\"Generated answer: {generations[i]}\")\n",
    "    print(f\"Extracted generated answer: {extract_answer_gsm(generations[i])}\")\n",
    "    print(f\"Extracted ground truth: {extract_answer_gsm(test_dataset[i]['answer'])}\")"
   ]
  },
  {
   "cell_type": "code",
   "execution_count": 2,
   "metadata": {},
   "outputs": [
    {
     "ename": "NameError",
     "evalue": "name 'GSMDataset' is not defined",
     "output_type": "error",
     "traceback": [
      "\u001b[1;31m---------------------------------------------------------------------------\u001b[0m",
      "\u001b[1;31mNameError\u001b[0m                                 Traceback (most recent call last)",
      "Cell \u001b[1;32mIn[2], line 2\u001b[0m\n\u001b[0;32m      1\u001b[0m \u001b[38;5;66;03m# Load MGSM\u001b[39;00m\n\u001b[1;32m----> 2\u001b[0m mgsm_test \u001b[38;5;241m=\u001b[39m \u001b[43mGSMDataset\u001b[49m(DatasetNames\u001b[38;5;241m.\u001b[39mMGSM, model\u001b[38;5;241m.\u001b[39mtokenizer, instructions\u001b[38;5;241m=\u001b[39m\u001b[38;5;124m'\u001b[39m\u001b[38;5;124m'\u001b[39m, split\u001b[38;5;241m=\u001b[39m\u001b[38;5;124m'\u001b[39m\u001b[38;5;124mtest\u001b[39m\u001b[38;5;124m'\u001b[39m, config\u001b[38;5;241m=\u001b[39m\u001b[38;5;124m'\u001b[39m\u001b[38;5;124men\u001b[39m\u001b[38;5;124m'\u001b[39m)\n\u001b[0;32m      4\u001b[0m \u001b[38;5;66;03m# Load generations from mgsm_en_Qwen2-1.5B-Instruct_results\u001b[39;00m\n\u001b[0;32m      5\u001b[0m df \u001b[38;5;241m=\u001b[39m pd\u001b[38;5;241m.\u001b[39mread_csv(\u001b[38;5;124m'\u001b[39m\u001b[38;5;124mresults/mgsm_en_Qwen2-1.5B-Instruct_results.csv\u001b[39m\u001b[38;5;124m'\u001b[39m)\n",
      "\u001b[1;31mNameError\u001b[0m: name 'GSMDataset' is not defined"
     ]
    }
   ],
   "source": [
    "# Load MGSM\n",
    "mgsm_test = GSMDataset(DatasetNames.MGSM, model.tokenizer, instructions='', split='test', config='en')\n",
    "\n",
    "# Load generations from mgsm_en_Qwen2-1.5B-Instruct_results\n",
    "df = pd.read_csv('results/mgsm_en_Qwen2-1.5B-Instruct_results.csv')\n",
    "mgsm_generations = df['response'].tolist()"
   ]
  },
  {
   "cell_type": "code",
   "execution_count": 13,
   "metadata": {},
   "outputs": [
    {
     "name": "stdout",
     "output_type": "stream",
     "text": [
      "MGSM Accuracy: 0.5760 (144/250)\n"
     ]
    }
   ],
   "source": [
    "# Get ground truth answers\n",
    "mgsm_gt_answers = [sample for sample in mgsm_test.dataset['answer_number']]\n",
    "\n",
    "# Calculate correct predictions\n",
    "correct = 0\n",
    "for pred, gt in zip(mgsm_generations, mgsm_gt_answers):\n",
    "    if extract_answer_gsm(pred) == gt:\n",
    "        correct += 1\n",
    "        \n",
    "# Calculate accuracy\n",
    "accuracy = correct / len(mgsm_test)\n",
    "print(f\"MGSM Accuracy: {accuracy:.4f} ({correct}/{len(mgsm_test)})\")"
   ]
  },
  {
   "cell_type": "code",
   "execution_count": 8,
   "metadata": {},
   "outputs": [
    {
     "name": "stdout",
     "output_type": "stream",
     "text": [
      "ধাপে ধাপে উত্তর: সোমবার থেকে বৃহস্পতিবার 4দিন হয়। প্রতিদিন 5টি করে কম্পিউটার যোগ করা হয়েছে। যার অর্থ মোট 4 * 5 = 20টি কম্পিউটার যোগ করা হয়েছে। শুরুতে 9টি কম্পিউটার ছিল, তাই এখন 9 + 20 = 29টি কম্পিউটার রয়েছে। উত্তর হল 29।\n",
      "Schritt-für-Schritt-Antwort: Michael hatte anfangs 58 Golfbälle und hat 23 verloren, sodass er 58 - 23 = 35 hat. Nachdem er 2 weitere verloren hat, hat er jetzt 35 - 2 = 33 Bälle. Die Antwort lautet 33.\n",
      "Step-by-Step Answer: Roger started with 5 balls. 2 cans of 3 tennis balls each is 6 tennis balls. 5 + 6 = 11. The answer is 11.\n",
      "Respuesta paso a paso: Tiene 5 juguetes. Recibió 2 de la mamá, por lo que después de eso tiene 5 + 2 = 7 juguetes. Luego, recibió 2 más del papá, así que en total tiene 7 + 2 = 9 juguetes. La respuesta es 9.\n",
      "Réponse étape par étape : 5 bagels à 3 $ chacun coûtent 5 x 3 = 15 dollars. Olivia avait 23 dollars au départ, il lui reste donc 23 - 15 = 8 dollars. La réponse est 8.\n",
      "ステップごとの答え：月曜から木曜まで4日あります。毎日5台のコンピューターが追加されます。つまり、全部で4*5=20台のコンピューターが追加されました。最初に9台のコンピューターがあったので、今は9+20=29台のコンピューターとなります。答えは29です。\n",
      "Пошаговое решение: в начале у Роджера было 5 мячей. 2 банки по 3 теннисных мяча каждая — это 6 теннисных мячей. 5 + 6 = 11. Ответ — 11.\n",
      "Jibu la Hatua kwa Hatua: Lea alikuwa na chokoleti 32 na dadake Leah alikuwa na 42. Hiyo inamaanisha kuwa awali kulikuwa na chokoleti 32 + 42 + 74. 35 zimeliwa. Hivyo kwa jumla bado kuna chokoleti 74 - 35 = 39. Jibu ni 39.\n",
      "దశలవారీగా సమాధానం: సోమవారం నుంచి గురువారం వరకు 4 రోజులున్నాయి. ప్రతిరోజూ 5 కంప్యూటర్‌లు జోడించబడ్డాయి. అంటే మొత్తం 4*5=20 కంప్యూటర్‌లు జోడించబడ్డాయి. ప్రారంభంలో 9 కంప్యూటర్‌లు ఉన్నాయి, అందువల్ల ఇప్పుడు అవి 9+20=29 కంప్యూటర్‌లు సమాధానం 29.\n",
      "คำตอบทีละขั้นตอน: ลีอามีช็อกโกแลตอยู่ 32 ชิ้น และน้องสาวมีช็อกโกแลตอยู่ 42 ชิ้น แสดงว่าเดิมมีช็อกโกแลตอยู่ 32 + 42 = 74 ชิ้น หากทานไปแล้ว 35 ชิ้น ดังนั้นจะเหลือช็อกโกแลตทั้งหมดอยู่ 74 - 35 = 39 ชิ้น คำตอบคือ 39\n",
      "逐步解答：利亚有 32 块巧克力，利亚的妹妹有 42 块。这意味着原来有 32 + 42 = 74 块巧克力。35 块被吃掉了。所以她们一共还有 74 - 35 = 39 块巧克力。答案是 39。\n"
     ]
    }
   ],
   "source": [
    "import datasets\n",
    "import random\n",
    "\n",
    "answers = {}\n",
    "\n",
    "for key in LANGUAGE_MAPPING.keys():\n",
    "    mgsm_multilingual = datasets.load_dataset('juletxara/mgsm', key)\n",
    "    # random index\n",
    "    random_index = random.randint(0, len(mgsm_multilingual['train']) - 1)\n",
    "    first_answer = mgsm_multilingual['train'][random_index]['answer']\n",
    "    answers[key] = first_answer\n",
    "    \n",
    "# Print the answers\n",
    "for lang, answer in answers.items():\n",
    "    print(f\"{answer}\")"
   ]
  },
  {
   "cell_type": "code",
   "execution_count": null,
   "metadata": {},
   "outputs": [],
   "source": [
    "new_df = [\"question\", \"actual_answer\", \"model_gen_steps\", \"model_gen_answer\",  ]\n",
    "\n",
    "# mgsm_test = GSMDataset(DatasetNames.MGSM, model.tokenizer, instructions='', split='test', config='en')\n",
    "\n",
    "mgsm_generation_df = pd.read_csv('results\\mgsm_en_Qwen2.5-1.5B-Instruct_results.csv')\n",
    "mgsm_generations = mgsm_generation_df['response'].tolist()\n",
    "\n",
    "all_steps = []\n",
    "all_gen_final_ans = []\n",
    "\n",
    "for response in mgsm_generations:\n",
    "    ##ToDo: put this furnshing the steps and answer from raw-answer-csv code to utils\n",
    "    steps = response.split(\"\\n-\")\n",
    "    final_step = steps[-1].split(\".\\r\\n\")[0]\n",
    "    steps.pop()\n",
    "    steps.append( final_step )\n",
    "    furnished_steps = []\n",
    "\n",
    "    i = 1\n",
    "    for _, step in enumerate(steps[1:]):\n",
    "        if step:  # Skip empty parts (if any)\n",
    "            furnished_steps.append(str(i) + \". \" + step )  # Replace with number (1, 2, 3...)\n",
    "            i += 1\n",
    "       \n",
    "\n",
    "    steps_str = \"\".join(furnished_steps)\n",
    "    all_steps.append( steps_str )\n",
    "\n",
    "    gen_final_ans = extract_answer_gsm(response)\n",
    "    all_gen_final_ans.append( gen_final_ans )\n",
    "\n",
    "percentile_list = pd.DataFrame(\n",
    "    {'model_gen_steps': all_steps,\n",
    "     'model_gen_answer': all_gen_final_ans\n",
    "    })\n",
    "\n",
    "percentile_list.to_csv(\"results/analysis_mgsm_en_Qwen2.5-1.5B-Instruct_results.csv\", index = False)\n",
    "\n",
    "\n",
    "    \n",
    "\n",
    "# question_list = mgsm_test.dataset['question']\n",
    "# actual_answer = mgsm_test.dataset['answer_number']\n",
    "\n"
   ]
  },
  {
   "cell_type": "code",
   "execution_count": null,
   "metadata": {},
   "outputs": [],
   "source": []
  }
 ],
 "metadata": {
  "kernelspec": {
   "display_name": "transformer",
   "language": "python",
   "name": "python3"
  },
  "language_info": {
   "codemirror_mode": {
    "name": "ipython",
    "version": 3
   },
   "file_extension": ".py",
   "mimetype": "text/x-python",
   "name": "python",
   "nbconvert_exporter": "python",
   "pygments_lexer": "ipython3",
   "version": "3.11.5"
  }
 },
 "nbformat": 4,
 "nbformat_minor": 2
}
